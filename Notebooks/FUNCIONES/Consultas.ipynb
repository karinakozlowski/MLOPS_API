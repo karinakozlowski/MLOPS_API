{
 "cells": [
  {
   "cell_type": "markdown",
   "id": "972b041e",
   "metadata": {},
   "source": [
    "En este apartado se hicieron todos las tranformaciones necesarias para las funciones que va a consumir la API. Se tienen como fuentes de datos los archivos ya limpios: user_reviews_cleaned, steam_games_cleaned, user_items_cleaned. Se persigue la eficiencia y ligereza de estas consultas para facilitar el trabajo de la API."
   ]
  },
  {
   "cell_type": "markdown",
   "id": "18fe0739",
   "metadata": {},
   "source": [
    "### Importar Bibliotecas"
   ]
  },
  {
   "cell_type": "code",
   "execution_count": 1,
   "id": "2b2d26c4",
   "metadata": {},
   "outputs": [],
   "source": [
    "import pandas as pd\n",
    "import os\n",
    "import ast"
   ]
  },
  {
   "cell_type": "markdown",
   "id": "f5c2c2a2",
   "metadata": {},
   "source": [
    "### Cargar el conjunto de datos limpios"
   ]
  },
  {
   "cell_type": "code",
   "execution_count": 2,
   "id": "7840870b",
   "metadata": {},
   "outputs": [],
   "source": [
    "df_steam_games = pd.read_csv('steam_games_cleaned.csv')\n",
    "df_user_reviews = pd.read_csv('user_reviews_cleaned.csv')\n",
    "df_user_items = pd.read_csv('user_items_cleaned.csv')"
   ]
  },
  {
   "cell_type": "markdown",
   "id": "b539c3f2",
   "metadata": {},
   "source": [
    "### Rutinas"
   ]
  },
  {
   "cell_type": "code",
   "execution_count": null,
   "id": "85712f92",
   "metadata": {},
   "outputs": [],
   "source": [
    "df_reviews = pd.read_csv('data/df_reviews_unido.csv')\n",
    "df_gastos_items = pd.read_csv('data/df_gastos_items_unido.csv')\n",
    "df_items_developer = pd.read_csv('data/df_items_developer_unido.csv')"
   ]
  },
  {
   "cell_type": "markdown",
   "id": "c42981a6",
   "metadata": {},
   "source": [
    "### developer \n",
    "\n",
    "\n",
    "Esta función recibe como parámetro 'developer', que es la empresa desarrolladora del juego, y devuelve la cantidad de items que desarrolla dicha empresa y el porcentaje de contenido Free por año por sobre el total que desarrolla"
   ]
  },
  {
   "cell_type": "code",
   "execution_count": null,
   "id": "77b58b43",
   "metadata": {},
   "outputs": [],
   "source": [
    "def developer(desarrollador):\n",
    "    # Filtra el dataframe por desarrollador de interés\n",
    "    data_filtrada = df_items_developer[df_items_developer['developer'] == desarrollador]\n",
    "    # Calcula la cantidad de items por año\n",
    "    cantidad_por_año = data_filtrada.groupby('release_anio')['item_id'].count()\n",
    "    # Calcula la cantidad de elementos gratis por año\n",
    "    cantidad_gratis_por_año = data_filtrada[data_filtrada['price'] == 0.0].groupby('release_anio')['item_id'].count()\n",
    "    # Calcula el porcentaje de elementos gratis por año\n",
    "    porcentaje_gratis_por_año = (cantidad_gratis_por_año / cantidad_por_año * 100).fillna(0).astype(int)\n",
    "\n",
    "    result_dict = {\n",
    "        'cantidad_por_año': cantidad_por_año.to_dict(),\n",
    "        'porcentaje_gratis_por_año': porcentaje_gratis_por_año.to_dict()\n",
    "    }\n",
    "    \n",
    "    return result_dict"
   ]
  },
  {
   "cell_type": "code",
   "execution_count": null,
   "id": "0b7742a1",
   "metadata": {},
   "outputs": [],
   "source": [
    "desarrollador = 'Mechanical Boss'\n",
    "developer(desarrollador)"
   ]
  },
  {
   "cell_type": "markdown",
   "id": "2d9583b1",
   "metadata": {},
   "source": [
    "### user data "
   ]
  },
  {
   "cell_type": "code",
   "execution_count": null,
   "id": "e9d0638d",
   "metadata": {},
   "outputs": [],
   "source": [
    "def userdata(user_id):\n",
    "    \n",
    "    # Filtra por el usuario de interés\n",
    "    usuario = df_user_reviews[df_reviews['user_id'] == user_id]\n",
    "    # Calcula la cantidad de dinero gastado para el usuario de interés\n",
    "    cantidad_dinero = df_gastos_items[df_gastos_items['user_id']== user_id]['price'].iloc[0]\n",
    "    # Busca el count_item para el usuario de interés    \n",
    "    count_items = df_gastos_items[df_gastos_items['user_id']== user_id]['items_count'].iloc[0]\n",
    "    \n",
    "    # Calcula el total de recomendaciones realizadas por el usuario de interés\n",
    "    total_recomendaciones = usuario['reviews_recommend'].sum()\n",
    "    # Calcula el total de reviews realizada por todos los usuarios\n",
    "    total_reviews = len(df_reviews['user_id'].unique())\n",
    "    # Calcula el porcentaje de recomendaciones realizadas por el usuario de interés\n",
    "    porcentaje_recomendaciones = (total_recomendaciones / total_reviews) * 100\n",
    "    \n",
    "    return {\n",
    "        'cantidad_dinero': cantidad_dinero,\n",
    "        'porcentaje_recomendacion': round(porcentaje_recomendaciones, 2),\n",
    "        'total_items': count_items.astype(int)\n",
    "    }"
   ]
  },
  {
   "cell_type": "code",
   "execution_count": null,
   "id": "ba60c81c",
   "metadata": {},
   "outputs": [],
   "source": [
    "user_id = 'EchoXSilence'\n",
    "userdata(user_id)"
   ]
  },
  {
   "cell_type": "markdown",
   "id": "56bcb30b",
   "metadata": {},
   "source": [
    "### UserForGenre "
   ]
  },
  {
   "cell_type": "code",
   "execution_count": null,
   "id": "8873b90d",
   "metadata": {},
   "outputs": [],
   "source": [
    "df_game = df_steam_games.drop(['name', 'developer', 'price', 'tags','specs'],axis=1)\n",
    "\n",
    "# Merge de los DataFrames\n",
    "merged_data=pd.merge(df_user_items,df_game,left_on='item_id', right_on='item_id', how='right')\n",
    "\n",
    "merged_data.drop(['item_id'], axis=1, inplace=True)\n",
    "merged_data.dropna(inplace=True)\n",
    "\n",
    "merged_data['hours_game'] = merged_data['hours_game'].astype(int)\n",
    "merged_data['year'] = merged_data['year'].astype(int)\n",
    "\n",
    "#Convertimos la columna genres a tipo lista\n",
    "merged_data['genres'] = merged_data['genres'].apply(ast.literal_eval)\n",
    "\n",
    "#Expandimos las listas en columnas\n",
    "merged_data = merged_data.explode('genres').reset_index(drop=True)\n",
    "\n",
    "#Encontrar el jugador con más horas jugadas por género y año\n",
    "max_hours_df = merged_data.loc[merged_data.groupby(['genres', 'year'])['hours_game'].idxmax()]\n",
    "\n",
    "#Filtrar las columnas necesarias\n",
    "max_hours_df = max_hours_df[['genres', 'year', 'user_id', 'hours_game']]\n",
    "\n",
    "#Segunda agrupación para obtener las horas jugadas por año para el usuario seleccionado\n",
    "max_hours = max_hours_df.groupby(['genres', 'year', 'user_id'])['hours_game'].sum().reset_index()\n",
    "\n",
    "max_hours.to_csv('UserForGenre.csv', index=False)"
   ]
  },
  {
   "cell_type": "markdown",
   "id": "445bdcdc",
   "metadata": {},
   "source": [
    "##### best_developer_year "
   ]
  },
  {
   "cell_type": "code",
   "execution_count": 1,
   "id": "dd80a85b",
   "metadata": {},
   "outputs": [
    {
     "ename": "NameError",
     "evalue": "name 'pd' is not defined",
     "output_type": "error",
     "traceback": [
      "\u001b[1;31m---------------------------------------------------------------------------\u001b[0m",
      "\u001b[1;31mNameError\u001b[0m                                 Traceback (most recent call last)",
      "Cell \u001b[1;32mIn[1], line 2\u001b[0m\n\u001b[0;32m      1\u001b[0m \u001b[38;5;66;03m# Unir los DataFrames\u001b[39;00m\n\u001b[1;32m----> 2\u001b[0m df_merged \u001b[38;5;241m=\u001b[39m \u001b[43mpd\u001b[49m\u001b[38;5;241m.\u001b[39mmerge(df_user_reviews, df_steam_games, on\u001b[38;5;241m=\u001b[39m\u001b[38;5;124m'\u001b[39m\u001b[38;5;124mitem_id\u001b[39m\u001b[38;5;124m'\u001b[39m, how\u001b[38;5;241m=\u001b[39m\u001b[38;5;124m'\u001b[39m\u001b[38;5;124mleft\u001b[39m\u001b[38;5;124m'\u001b[39m)\n\u001b[0;32m      4\u001b[0m \u001b[38;5;66;03m# Filtrar las filas que cumplen con las condiciones\u001b[39;00m\n\u001b[0;32m      5\u001b[0m df_filtered \u001b[38;5;241m=\u001b[39m df_merged\u001b[38;5;241m.\u001b[39mloc[(df_merged[\u001b[38;5;124m'\u001b[39m\u001b[38;5;124mrecommend\u001b[39m\u001b[38;5;124m'\u001b[39m] \u001b[38;5;241m==\u001b[39m \u001b[38;5;28;01mFalse\u001b[39;00m) \u001b[38;5;241m&\u001b[39m (df_merged[\u001b[38;5;124m'\u001b[39m\u001b[38;5;124msentiment_analysis\u001b[39m\u001b[38;5;124m'\u001b[39m] \u001b[38;5;241m==\u001b[39m \u001b[38;5;241m0\u001b[39m),\n\u001b[0;32m      6\u001b[0m                            [\u001b[38;5;124m'\u001b[39m\u001b[38;5;124myear_x\u001b[39m\u001b[38;5;124m'\u001b[39m, \u001b[38;5;124m'\u001b[39m\u001b[38;5;124mdeveloper\u001b[39m\u001b[38;5;124m'\u001b[39m]]\n",
      "\u001b[1;31mNameError\u001b[0m: name 'pd' is not defined"
     ]
    }
   ],
   "source": [
    "# Unir los DataFrames\n",
    "df_merged = pd.merge(df_user_reviews, df_steam_games, on='item_id', how='left')\n",
    "\n",
    "# Filtrar las filas que cumplen con las condiciones\n",
    "df_filtered = df_merged.loc[(df_merged['recommend'] == False) & (df_merged['sentiment_analysis'] == 0),\n",
    "                           ['year_x', 'developer']]\n",
    " \n",
    "# Renombrar la columna 'year_x' a 'year'\n",
    "df_filtered = df_filtered.rename(columns={'year_x': 'year'})\n",
    "\n",
    "# Contar las ocurrencias de cada desarrolladora por año\n",
    "developer_counts = df_filtered.groupby(['year', 'developer']).size().reset_index(name='count')\n",
    "    \n",
    "# Ordenar por 'year' y 'count' en orden descendente\n",
    "grouped_result = developer_counts.sort_values(by=['year', 'count'], ascending=[False, False])    \n",
    "\n",
    "# Obtener el top 3 por año\n",
    "result_df = grouped_result.groupby('year').head(3)    \n",
    "\n",
    "# Guardar el resultado en un archivo CSV\n",
    "result_df.to_csv('best_developer_year.csv', index=False)"
   ]
  },
  {
   "cell_type": "markdown",
   "id": "8b993638",
   "metadata": {},
   "source": [
    "##### developer_review_analysis"
   ]
  },
  {
   "cell_type": "code",
   "execution_count": 5,
   "id": "fdadfba1",
   "metadata": {},
   "outputs": [],
   "source": [
    "# Merge de los DataFrames\n",
    "merged_df = pd.merge(df_steam_games, df_user_reviews, on='item_id', how='inner')\n",
    "\n",
    "# Agrupar por desarrolladora y sentimiento, y contar las ocurrencias\n",
    "result_df = merged_df.groupby(['developer', 'sentiment_analysis']).size().reset_index(name='count')\n",
    "\n",
    "# Pivoteando el DataFrame para tener sentimientos como columnas\n",
    "result_df = result_df.pivot(index='developer', columns='sentiment_analysis', values='count').reset_index()\n",
    "\n",
    "# Renombrar las columnas según el formato deseado\n",
    "result_df.columns = ['developer', 'Negative', 'Neutral', 'Positive']\n",
    "\n",
    "# Rellenar NaN con 0\n",
    "result_df = result_df.fillna(0)\n",
    "\n",
    "# Convertir las columnas a tipo int\n",
    "result_df[['Negative', 'Neutral', 'Positive']] = result_df[['Negative', 'Neutral', 'Positive']].astype(int)\n",
    "\n",
    "# Guardar el resultado en un archivo CSV\n",
    "result_df.to_csv('developer_reviews_analysis.csv', index=False)"
   ]
  }
 ],
 "metadata": {
  "kernelspec": {
   "display_name": "Python 3 (ipykernel)",
   "language": "python",
   "name": "python3"
  },
  "language_info": {
   "codemirror_mode": {
    "name": "ipython",
    "version": 3
   },
   "file_extension": ".py",
   "mimetype": "text/x-python",
   "name": "python",
   "nbconvert_exporter": "python",
   "pygments_lexer": "ipython3",
   "version": "3.12.0"
  }
 },
 "nbformat": 4,
 "nbformat_minor": 5
}
